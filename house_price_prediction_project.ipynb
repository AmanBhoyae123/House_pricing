{
 "cells": [
  {
   "cell_type": "markdown",
   "id": "473652e0",
   "metadata": {},
   "source": [
    "# House Price Prediction - Data Science Project"
   ]
  },
  {
   "cell_type": "markdown",
   "id": "ec8e87ae",
   "metadata": {},
   "source": [
    "\n",
    "## Introduction  \n",
    "This project analyzes house prices based on various features and applies machine learning models to predict house prices.\n"
   ]
  },
  {
   "cell_type": "code",
   "execution_count": null,
   "id": "a57927aa",
   "metadata": {},
   "outputs": [],
   "source": [
    "\n",
    "import pandas as pd\n",
    "import numpy as np\n",
    "import matplotlib.pyplot as plt\n",
    "import seaborn as sns\n",
    "from sklearn.model_selection import train_test_split\n",
    "from sklearn.preprocessing import StandardScaler\n",
    "from sklearn.linear_model import LinearRegression\n",
    "from sklearn.tree import DecisionTreeRegressor\n",
    "from sklearn.ensemble import RandomForestRegressor\n",
    "from sklearn.svm import SVR\n",
    "from sklearn.metrics import mean_absolute_error, mean_squared_error, r2_score\n",
    "\n",
    "# Setting style\n",
    "sns.set_style(\"whitegrid\")\n"
   ]
  },
  {
   "cell_type": "code",
   "execution_count": null,
   "id": "e351e809",
   "metadata": {},
   "outputs": [],
   "source": [
    "\n",
    "# Load dataset\n",
    "df = pd.read_csv(\"house_price_dataset.csv\")\n",
    "\n",
    "# Display first few rows\n",
    "df.head()\n"
   ]
  },
  {
   "cell_type": "code",
   "execution_count": null,
   "id": "d0d98a92",
   "metadata": {},
   "outputs": [],
   "source": [
    "\n",
    "# 1. Histogram - Distribution of House Prices\n",
    "plt.figure(figsize=(8, 5))\n",
    "sns.histplot(df[\"Price\"], bins=30, kde=True, color=\"blue\")\n",
    "plt.title(\"Distribution of House Prices\")\n",
    "plt.xlabel(\"Price ($)\")\n",
    "plt.ylabel(\"Frequency\")\n",
    "plt.show()\n",
    "\n",
    "# 2. Scatter Plot - Square Feet vs. Price\n",
    "plt.figure(figsize=(8, 5))\n",
    "sns.scatterplot(x=df[\"Square_Feet\"], y=df[\"Price\"], alpha=0.5, color=\"red\")\n",
    "plt.title(\"Square Feet vs. House Price\")\n",
    "plt.xlabel(\"Square Feet\")\n",
    "plt.ylabel(\"Price ($)\")\n",
    "plt.show()\n",
    "\n",
    "# 3. Heatmap - Correlation between Features\n",
    "plt.figure(figsize=(8, 5))\n",
    "corr_matrix = df.corr()\n",
    "sns.heatmap(corr_matrix, annot=True, cmap=\"coolwarm\", fmt=\".2f\", linewidths=0.5)\n",
    "plt.title(\"Feature Correlation Heatmap\")\n",
    "plt.show()\n",
    "\n",
    "# 4. Box Plot - Price distribution based on Bedrooms\n",
    "plt.figure(figsize=(8, 5))\n",
    "sns.boxplot(x=df[\"Bedrooms\"], y=df[\"Price\"], palette=\"Set2\")\n",
    "plt.title(\"House Price Distribution by Number of Bedrooms\")\n",
    "plt.xlabel(\"Number of Bedrooms\")\n",
    "plt.ylabel(\"Price ($)\")\n",
    "plt.show()\n",
    "\n",
    "# 5. Bar Chart - Average Price by Number of Floors\n",
    "plt.figure(figsize=(8, 5))\n",
    "avg_price_by_floors = df.groupby(\"Floors\")[\"Price\"].mean()\n",
    "sns.barplot(x=avg_price_by_floors.index, y=avg_price_by_floors.values, palette=\"muted\")\n",
    "plt.title(\"Average House Price by Number of Floors\")\n",
    "plt.xlabel(\"Number of Floors\")\n",
    "plt.ylabel(\"Average Price ($)\")\n",
    "plt.show()\n"
   ]
  },
  {
   "cell_type": "code",
   "execution_count": null,
   "id": "fb1d80c0",
   "metadata": {},
   "outputs": [],
   "source": [
    "\n",
    "# Splitting data into features (X) and target (y)\n",
    "X = df.drop(columns=[\"Price\"])\n",
    "y = df[\"Price\"]\n",
    "\n",
    "# Splitting into training (80%) and testing (20%) sets\n",
    "X_train, X_test, y_train, y_test = train_test_split(X, y, test_size=0.2, random_state=42)\n",
    "\n",
    "# Standardizing the data\n",
    "scaler = StandardScaler()\n",
    "X_train_scaled = scaler.fit_transform(X_train)\n",
    "X_test_scaled = scaler.transform(X_test)\n",
    "\n",
    "# Models to train\n",
    "models = {\n",
    "    \"Linear Regression\": LinearRegression(),\n",
    "    \"Decision Tree\": DecisionTreeRegressor(random_state=42),\n",
    "    \"Random Forest\": RandomForestRegressor(n_estimators=100, random_state=42),\n",
    "    \"Support Vector Machine\": SVR()\n",
    "}\n",
    "\n",
    "# Training and evaluating models\n",
    "results = {}\n",
    "for model_name, model in models.items():\n",
    "    model.fit(X_train_scaled, y_train)\n",
    "    y_pred = model.predict(X_test_scaled)\n",
    "    \n",
    "    mae = mean_absolute_error(y_test, y_pred)\n",
    "    mse = mean_squared_error(y_test, y_pred)\n",
    "    r2 = r2_score(y_test, y_pred)\n",
    "    \n",
    "    results[model_name] = {\"MAE\": mae, \"MSE\": mse, \"R2 Score\": r2}\n",
    "\n",
    "# Displaying results\n",
    "results_df = pd.DataFrame(results).T\n",
    "results_df\n"
   ]
  },
  {
   "cell_type": "markdown",
   "id": "4ceccdc6",
   "metadata": {},
   "source": [
    "\n",
    "## Conclusion  \n",
    "This project explored house price prediction using multiple machine learning models. The performance of the models can be improved with better data preprocessing, feature engineering, and hyperparameter tuning.\n"
   ]
  }
 ],
 "metadata": {},
 "nbformat": 4,
 "nbformat_minor": 5
}
